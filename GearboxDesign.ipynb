{
 "cells": [
  {
   "cell_type": "code",
   "execution_count": 1,
   "metadata": {},
   "outputs": [],
   "source": [
    "import numpy as np\n",
    "import math\n",
    "import math\n",
    "from matplotlib import pyplot as plt"
   ]
  },
  {
   "cell_type": "code",
   "execution_count": 2,
   "metadata": {},
   "outputs": [
    {
     "name": "stdout",
     "output_type": "stream",
     "text": [
      "Output Flow Rate: 2659.88 mL/s\n"
     ]
    },
    {
     "data": {
      "text/plain": [
       "Text(0.5,1,'Torque required vs RPM')"
      ]
     },
     "execution_count": 2,
     "metadata": {},
     "output_type": "execute_result"
    },
    {
     "data": {
      "image/png": "[encoded data removed]",
      "text/plain": [
       "<matplotlib.figure.Figure at 0x22d48575198>"
      ]
     },
     "metadata": {
      "needs_background": "light"
     },
     "output_type": "display_data"
    }
   ],
   "source": [
    "#Define constants of power screw\n",
    "powerScrewPitch = 0.00508 #m/rotation\n",
    "powerScrewMajorDiameter = 0.01905 #m\n",
    "frictionCoeff = 0.2\n",
    "threadAngle = 29  #degrees\n",
    "pistonDiameter = 0.1 #m\n",
    "\n",
    "pistonArea = math.pi*(pistonDiameter)**2 #mm^2\n",
    "\n",
    "#Define useful functions\n",
    "def calculatePerformance(rpm,cost):\n",
    "    return (calculateOutputFlow(rpm)/cost)\n",
    "\n",
    "#Returns mL/s\n",
    "def calculateOutputFlow(rpm):\n",
    "    pistonVelocity = findPistonVelocity(rpm,powerScrewPitch)\n",
    "    return pistonVelocity * pistonArea * 10**(6)\n",
    "    \n",
    "def calculateMeanDiameter(majorDiameter, pitch):\n",
    "    return majorDiameter - pitch/2\n",
    "\n",
    "def secant(angle):\n",
    "    return 1/math.cos(angle)\n",
    "\n",
    "#Returns m/s units\n",
    "def findPistonVelocity(rpm,powerScrewPitch):\n",
    "    rotationsPerSec = rpm/60.0\n",
    "    return rotationsPerSec*powerScrewPitch\n",
    "\n",
    "#Returns pressure in Pa units\n",
    "def findPressure(pistonVelocity):\n",
    "    return (5*10**6)*pistonVelocity\n",
    "\n",
    "#Returns force in N units\n",
    "def findForce(pistonPressure):\n",
    "    return pistonPressure*pistonArea\n",
    "\n",
    "#F: force applied to piston\n",
    "#l: pitch of power screw\n",
    "#dm: major diameter\n",
    "#f: friction coefficient\n",
    "#alpha: pitch angle\n",
    "def powerScrewTorque(F,l,dm,f,alpha):\n",
    "    Torque = ((F*dm)/2)*((l+math.pi*f*dm*secant(alpha*(math.pi/180)))/(math.pi*dm-f*l*secant(alpha*(math.pi/180))))\n",
    "    return Torque\n",
    "\n",
    "powerScrewMeanDiameter = calculateMeanDiameter(powerScrewMajorDiameter,powerScrewPitch)\n",
    "\n",
    "#Create array of possible RPM's to graph\n",
    "rpm = np.arange(0,2000,1)\n",
    "\n",
    "pistonVelocity = findPistonVelocity(rpm,powerScrewPitch)\n",
    "chamberPressure = findPressure(pistonVelocity)\n",
    "requiredForce = findForce(chamberPressure)\n",
    "\n",
    "print(\"Output Flow Rate: %.2f mL/s\" % calculateOutputFlow(1000))\n",
    "\n",
    "plt.plot(rpm,powerScrewTorque(requiredForce,powerScrewPitch,powerScrewMeanDiameter,frictionCoeff,threadAngle/2))\n",
    "plt.xlabel(\"RPM\")\n",
    "plt.ylabel(\"Torque Requirement\")\n",
    "plt.title(\"Torque required vs RPM\")"
   ]
  },
  {
   "cell_type": "code",
   "execution_count": null,
   "metadata": {},
   "outputs": [],
   "source": []
  },
  {
   "cell_type": "code",
   "execution_count": null,
   "metadata": {},
   "outputs": [],
   "source": []
  }
 ],
 "metadata": {
  "kernelspec": {
   "display_name": "Python 3",
   "language": "python",
   "name": "python3"
  },
  "language_info": {
   "codemirror_mode": {
    "name": "ipython",
    "version": 3
   },
   "file_extension": ".py",
   "mimetype": "text/x-python",
   "name": "python",
   "nbconvert_exporter": "python",
   "pygments_lexer": "ipython3",
   "version": "3.6.4"
  }
 },
 "nbformat": 4,
 "nbformat_minor": 2
}
