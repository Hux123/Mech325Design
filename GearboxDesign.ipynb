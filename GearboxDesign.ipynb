{
 "cells": [
  {
   "cell_type": "code",
   "execution_count": 1,
   "metadata": {},
   "outputs": [],
   "source": [
    "import numpy as np\n",
    "import math"
   ]
  },
  {
   "cell_type": "code",
   "execution_count": 2,
   "metadata": {},
   "outputs": [
    {
     "name": "stdout",
     "output_type": "stream",
     "text": [
      "2.6008955187622953\n",
      "1000.0\n"
     ]
    }
   ],
   "source": [
    "def secant(angle):\n",
    "    return 1/math.cos(angle)\n",
    "\n",
    "def findPistonVelocity(flowRateOut):\n",
    "    return (flowRateOut/pistonArea)*(1/1000)\n",
    "\n",
    "def findPressure(pistonVelocity):\n",
    "    return (5*10**6)*pistonVelocity\n",
    "\n",
    "def findForce(pistonPressure):\n",
    "    return pistonPressure*pistonArea\n",
    "\n",
    "#F: force applied to piston\n",
    "#l: pitch of power screw\n",
    "#dm: major diameter\n",
    "#f: friction coefficient\n",
    "#alpha: pitch angle\n",
    "def powerScrewTorque(F,l,dm,f,alpha):\n",
    "    Torque = ((F*dm)/2)*((l+math.pi*f*dm*secant(alpha*(math.pi/180)))/(math.pi*dm-f*l*secant(alpha*(math.pi/180))))\n",
    "    return Torque\n",
    "                   \n",
    "#Define constants\n",
    "flowRateOut = 0.2 #L/sec\n",
    "powerScrewPitch = 0.003175\n",
    "powerScrewOmega = 8\n",
    "pistonArea = math.pi *(0.05**2)\n",
    "frictionCoeff = 0.25\n",
    "powerScrewMajorDiameter = 0.0159\n",
    "threadAngle = 29  \n",
    "\n",
    "requiredForce = findForce(findPressure(findPistonVelocity(flowRateOut)))\n",
    "    \n",
    "print(powerScrewTorque(requiredForce,powerScrewPitch,powerScrewMajorDiameter,frictionCoeff,threadAngle/2))\n",
    "print(requiredForce)\n",
    "\n",
    "\n",
    "\n",
    "\n"
   ]
  },
  {
   "cell_type": "code",
   "execution_count": null,
   "metadata": {},
   "outputs": [],
   "source": []
  },
  {
   "cell_type": "code",
   "execution_count": null,
   "metadata": {},
   "outputs": [],
   "source": []
  }
 ],
 "metadata": {
  "kernelspec": {
   "display_name": "Python 3",
   "language": "python",
   "name": "python3"
  },
  "language_info": {
   "codemirror_mode": {
    "name": "ipython",
    "version": 3
   },
   "file_extension": ".py",
   "mimetype": "text/x-python",
   "name": "python",
   "nbconvert_exporter": "python",
   "pygments_lexer": "ipython3",
   "version": "3.6.4"
  }
 },
 "nbformat": 4,
 "nbformat_minor": 2
}
