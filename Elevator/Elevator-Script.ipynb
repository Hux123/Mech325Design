{
 "cells": [
  {
   "cell_type": "code",
   "execution_count": 6,
   "metadata": {},
   "outputs": [
    {
     "name": "stdout",
     "output_type": "stream",
     "text": [
      "10407.5\n"
     ]
    }
   ],
   "source": [
    "v = 800 #ft/min\n",
    "n_f = 10\n",
    "a = 4.83 #ft/s^2\n",
    "h = 100 #ft\n",
    "W_e = 5000 #lbs, 3000 lbs unloaded, 2000 lbs max load\n",
    "W_c = 3000 + 0.5*(2000) #lbs\n",
    "m = 1 #number of wire ropes\n",
    "w = 0.5 #lbs/ft\n",
    "g = 32.2 #ft/s^2\n",
    "\n",
    "\n",
    "def wireRopeTension():\n",
    "    return ((((W_e+W_c)/m)+w*h)*(1+(a/g)))\n",
    "\n",
    "force = wireRopeTension()\n",
    "print(force)"
   ]
  },
  {
   "cell_type": "code",
   "execution_count": null,
   "metadata": {},
   "outputs": [],
   "source": []
  }
 ],
 "metadata": {
  "kernelspec": {
   "display_name": "Python 3",
   "language": "python",
   "name": "python3"
  },
  "language_info": {
   "codemirror_mode": {
    "name": "ipython",
    "version": 3
   },
   "file_extension": ".py",
   "mimetype": "text/x-python",
   "name": "python",
   "nbconvert_exporter": "python",
   "pygments_lexer": "ipython3",
   "version": "3.6.4"
  }
 },
 "nbformat": 4,
 "nbformat_minor": 2
}
